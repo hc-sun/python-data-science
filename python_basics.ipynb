{
 "cells": [
  {
   "cell_type": "markdown",
   "id": "82d51f36",
   "metadata": {},
   "source": [
    "### Formatted string literal"
   ]
  },
  {
   "cell_type": "code",
   "execution_count": 1,
   "id": "c00bf84b",
   "metadata": {},
   "outputs": [
    {
     "data": {
      "text/plain": [
       "'Hello, World'"
      ]
     },
     "execution_count": 1,
     "metadata": {},
     "output_type": "execute_result"
    }
   ],
   "source": [
    "name = \"World\"\n",
    "f\"Hello, {name}\""
   ]
  },
  {
   "cell_type": "code",
   "execution_count": 2,
   "id": "d5ced59b",
   "metadata": {},
   "outputs": [
    {
     "data": {
      "text/plain": [
       "'value: 3.14'"
      ]
     },
     "execution_count": 2,
     "metadata": {},
     "output_type": "execute_result"
    }
   ],
   "source": [
    "val = 3.14159\n",
    "f\"value: {val:.2f}\""
   ]
  },
  {
   "cell_type": "markdown",
   "id": "a62023cc",
   "metadata": {},
   "source": [
    "### Data representation"
   ]
  },
  {
   "cell_type": "code",
   "execution_count": 3,
   "id": "3b262327",
   "metadata": {},
   "outputs": [
    {
     "data": {
      "text/plain": [
       "'0xff'"
      ]
     },
     "execution_count": 3,
     "metadata": {},
     "output_type": "execute_result"
    }
   ],
   "source": [
    "# int to hex\n",
    "hex(255)"
   ]
  },
  {
   "cell_type": "code",
   "execution_count": 4,
   "id": "bbfbeef3",
   "metadata": {},
   "outputs": [
    {
     "name": "stdout",
     "output_type": "stream",
     "text": [
      "10\n",
      "0b1010\n"
     ]
    }
   ],
   "source": [
    "# base 2 to int\n",
    "print(int(\"1010\", 2))\n",
    "# int to base 2\n",
    "print(bin(10))"
   ]
  },
  {
   "cell_type": "code",
   "execution_count": 5,
   "id": "3eaeaef6",
   "metadata": {},
   "outputs": [
    {
     "name": "stdout",
     "output_type": "stream",
     "text": [
      "97\n",
      "A\n"
     ]
    }
   ],
   "source": [
    "# unicode to int\n",
    "print(ord('a'))\n",
    "# int to unicode\n",
    "print(chr(65))"
   ]
  },
  {
   "cell_type": "code",
   "execution_count": 6,
   "id": "7c414c40",
   "metadata": {},
   "outputs": [
    {
     "name": "stdout",
     "output_type": "stream",
     "text": [
      "False\n",
      "False\n"
     ]
    }
   ],
   "source": [
    "### boolean\n",
    "print(bool(0))\n",
    "print(bool(None))"
   ]
  },
  {
   "cell_type": "markdown",
   "id": "99f7968e",
   "metadata": {},
   "source": [
    "### Operators"
   ]
  },
  {
   "cell_type": "code",
   "execution_count": 7,
   "id": "1cf8f307",
   "metadata": {},
   "outputs": [
    {
     "name": "stdout",
     "output_type": "stream",
     "text": [
      "False\n",
      "True\n",
      "False\n"
     ]
    }
   ],
   "source": [
    "x = True\n",
    "y = False\n",
    "print(x and y)\n",
    "print(x or y)\n",
    "print(not x)"
   ]
  },
  {
   "cell_type": "code",
   "execution_count": 8,
   "id": "728cf832",
   "metadata": {},
   "outputs": [
    {
     "name": "stdout",
     "output_type": "stream",
     "text": [
      "2\n",
      "3\n",
      "1\n",
      "4\n",
      "1\n",
      "-3\n"
     ]
    }
   ],
   "source": [
    "# bitwise operators\n",
    "x = 2 # 10\n",
    "y = 3 # 11\n",
    "print(x & y) # AND\n",
    "print(x | y) # OR\n",
    "print(x ^ y) # XOR\n",
    "print(x << 1) # left shift, add 0 to the right\n",
    "print(x >> 1) # right shift\n",
    "print(~x) # NOT -x-1"
   ]
  },
  {
   "cell_type": "code",
   "execution_count": 9,
   "id": "811ce29d",
   "metadata": {},
   "outputs": [
    {
     "name": "stdout",
     "output_type": "stream",
     "text": [
      "1842287357824\n",
      "1842287357888\n",
      "1842287357824\n",
      "True\n",
      "False\n",
      "True\n"
     ]
    }
   ],
   "source": [
    "# identity operators\n",
    "x = [1, 2, 3]\n",
    "y = [1, 2, 3]\n",
    "z = x\n",
    "print(id(x))\n",
    "print(id(y))\n",
    "print(id(z))\n",
    "print(x == y)\n",
    "print(x is y)\n",
    "print(x is z)"
   ]
  },
  {
   "cell_type": "code",
   "execution_count": 10,
   "id": "f4802cd5",
   "metadata": {},
   "outputs": [
    {
     "name": "stdout",
     "output_type": "stream",
     "text": [
      "False\n",
      "False\n"
     ]
    }
   ],
   "source": [
    "print(bool(0))\n",
    "print(bool(None))"
   ]
  },
  {
   "cell_type": "code",
   "execution_count": 11,
   "id": "0ae9d46f",
   "metadata": {},
   "outputs": [
    {
     "name": "stdout",
     "output_type": "stream",
     "text": [
      "3.14\n",
      "2\n",
      "3\n"
     ]
    }
   ],
   "source": [
    "print(round(3.14159, 2))\n",
    "print(round(2.5))\n",
    "print(round(2.51))"
   ]
  },
  {
   "cell_type": "markdown",
   "id": "5b9ee636",
   "metadata": {},
   "source": [
    "### string"
   ]
  },
  {
   "cell_type": "code",
   "execution_count": 12,
   "id": "5546bdcb",
   "metadata": {},
   "outputs": [
    {
     "name": "stdout",
     "output_type": "stream",
     "text": [
      "True True True\n",
      "False True True\n",
      "False False True\n"
     ]
    }
   ],
   "source": [
    "x = \"123\"\n",
    "y = \"²\"\n",
    "z = \"½\"\n",
    "\n",
    "print(x.isdecimal(), x.isdigit(), x.isnumeric())\n",
    "\n",
    "print(y.isdecimal(), y.isdigit(), y.isnumeric())\n",
    "\n",
    "print(z.isdecimal(), z.isdigit(), z.isnumeric())"
   ]
  },
  {
   "cell_type": "code",
   "execution_count": 13,
   "id": "a61cab5c",
   "metadata": {},
   "outputs": [
    {
     "name": "stdout",
     "output_type": "stream",
     "text": [
      "True\n",
      "True\n"
     ]
    }
   ],
   "source": [
    "x = \"abc\"\n",
    "y = \"abc123\"\n",
    "\n",
    "print(x.isalpha())\n",
    "print(y.isalnum())"
   ]
  },
  {
   "cell_type": "code",
   "execution_count": 14,
   "id": "069c559a",
   "metadata": {},
   "outputs": [
    {
     "name": "stdout",
     "output_type": "stream",
     "text": [
      "*******hello********\n",
      "hello***************\n",
      "***************hello\n"
     ]
    }
   ],
   "source": [
    "x = \"hello\"\n",
    "print(x.center(20, \"*\"))\n",
    "print(x.ljust(20, \"*\"))\n",
    "print(x.rjust(20, \"*\"))"
   ]
  },
  {
   "cell_type": "code",
   "execution_count": 15,
   "id": "de09d614",
   "metadata": {},
   "outputs": [
    {
     "name": "stdout",
     "output_type": "stream",
     "text": [
      "6\n",
      "6\n",
      "-1\n"
     ]
    }
   ],
   "source": [
    "s = \"hello world\"\n",
    "print(s.find(\"world\"))\n",
    "print(s.index(\"world\"))\n",
    "print(s.find(\"python\"))\n",
    "# s.index(\"python\") # ValueError"
   ]
  },
  {
   "cell_type": "code",
   "execution_count": 16,
   "id": "01f5ef77",
   "metadata": {},
   "outputs": [
    {
     "data": {
      "text/plain": [
       "'heLLo world'"
      ]
     },
     "execution_count": 16,
     "metadata": {},
     "output_type": "execute_result"
    }
   ],
   "source": [
    "s = \"hello world\"\n",
    "s.replace(\"l\", \"L\", 2)"
   ]
  },
  {
   "cell_type": "code",
   "execution_count": 17,
   "id": "a5ad9146",
   "metadata": {},
   "outputs": [
    {
     "name": "stdout",
     "output_type": "stream",
     "text": [
      "hello world\n"
     ]
    }
   ],
   "source": [
    "s = \"  hello world \"\n",
    "print(s.strip())"
   ]
  },
  {
   "cell_type": "code",
   "execution_count": 18,
   "id": "5b7da350",
   "metadata": {},
   "outputs": [
    {
     "name": "stdout",
     "output_type": "stream",
     "text": [
      "['hello', 'world']\n"
     ]
    }
   ],
   "source": [
    "s = \"hello,world\"\n",
    "print(s.split(\",\"))\n"
   ]
  },
  {
   "cell_type": "code",
   "execution_count": 19,
   "id": "1477ba24",
   "metadata": {},
   "outputs": [
    {
     "data": {
      "text/plain": [
       "'hello-world'"
      ]
     },
     "execution_count": 19,
     "metadata": {},
     "output_type": "execute_result"
    }
   ],
   "source": [
    "\"-\".join([\"hello\", \"world\"])"
   ]
  },
  {
   "cell_type": "markdown",
   "id": "a3145e3e",
   "metadata": {},
   "source": [
    "### Function"
   ]
  },
  {
   "cell_type": "code",
   "execution_count": 20,
   "id": "f3eb3e54",
   "metadata": {},
   "outputs": [
    {
     "data": {
      "text/plain": [
       "6"
      ]
     },
     "execution_count": 20,
     "metadata": {},
     "output_type": "execute_result"
    }
   ],
   "source": [
    "def add(*nums):\n",
    "    return sum(nums)\n",
    "add(1, 2, 3)"
   ]
  },
  {
   "cell_type": "code",
   "execution_count": 21,
   "id": "fc9eb193",
   "metadata": {},
   "outputs": [
    {
     "name": "stdout",
     "output_type": "stream",
     "text": [
      "un: 1\n",
      "deux: 2\n",
      "un: 1\n",
      "deux: 2\n"
     ]
    }
   ],
   "source": [
    "def kw_func(**kwargs):\n",
    "    for k, v in kwargs.items():\n",
    "        print(f\"{k}: {v}\")\n",
    "\n",
    "kw_func(un=1, deux=2)\n",
    "kw_func(**{\"un\": 1, \"deux\": 2})"
   ]
  },
  {
   "cell_type": "code",
   "execution_count": 22,
   "metadata": {},
   "outputs": [
    {
     "name": "stdout",
     "output_type": "stream",
     "text": [
      "1, 2\n"
     ]
    }
   ],
   "source": [
    "def kw_func(un, deux):\n",
    "    print(f\"{un}, {deux}\")\n",
    "\n",
    "kw_func(**{\"un\": 1, \"deux\": 2})"
   ]
  },
  {
   "cell_type": "code",
   "execution_count": 23,
   "id": "36ead638",
   "metadata": {},
   "outputs": [
    {
     "data": {
      "text/plain": [
       "8"
      ]
     },
     "execution_count": 23,
     "metadata": {},
     "output_type": "execute_result"
    }
   ],
   "source": [
    "f = lambda x, y: x ** y\n",
    "f(2, 3)"
   ]
  },
  {
   "cell_type": "markdown",
   "id": "242b06e8",
   "metadata": {},
   "source": [
    "### list"
   ]
  },
  {
   "cell_type": "code",
   "execution_count": 24,
   "id": "67ce965e",
   "metadata": {},
   "outputs": [],
   "source": [
    "lst = [1, 2, 3]"
   ]
  },
  {
   "cell_type": "code",
   "execution_count": 25,
   "id": "074a665f",
   "metadata": {},
   "outputs": [
    {
     "data": {
      "text/plain": [
       "3"
      ]
     },
     "execution_count": 25,
     "metadata": {},
     "output_type": "execute_result"
    }
   ],
   "source": [
    "len(lst) # O(1)"
   ]
  },
  {
   "cell_type": "code",
   "execution_count": 26,
   "id": "941d4cea",
   "metadata": {},
   "outputs": [
    {
     "data": {
      "text/plain": [
       "[1, 2, 3, 4, 5, 6]"
      ]
     },
     "execution_count": 26,
     "metadata": {},
     "output_type": "execute_result"
    }
   ],
   "source": [
    "lst.extend([4, 5, 6]) # O(k)\n",
    "lst"
   ]
  },
  {
   "cell_type": "code",
   "execution_count": 27,
   "id": "31ca5cc4",
   "metadata": {},
   "outputs": [
    {
     "data": {
      "text/plain": [
       "[1, 2, 3, 4, 5, 6, 7]"
      ]
     },
     "execution_count": 27,
     "metadata": {},
     "output_type": "execute_result"
    }
   ],
   "source": [
    "lst.append(7) # O(1)\n",
    "lst"
   ]
  },
  {
   "cell_type": "code",
   "execution_count": 28,
   "id": "ad85cfb9",
   "metadata": {},
   "outputs": [
    {
     "data": {
      "text/plain": [
       "[0, 1, 2, 3, 4, 5, 6, 7]"
      ]
     },
     "execution_count": 28,
     "metadata": {},
     "output_type": "execute_result"
    }
   ],
   "source": [
    "lst.insert(0, 0) # O(n)\n",
    "lst"
   ]
  },
  {
   "cell_type": "code",
   "execution_count": 29,
   "id": "91fd6c95",
   "metadata": {},
   "outputs": [
    {
     "data": {
      "text/plain": [
       "[1, 2, 3, 4, 5, 6, 7]"
      ]
     },
     "execution_count": 29,
     "metadata": {},
     "output_type": "execute_result"
    }
   ],
   "source": [
    "lst.remove(0) # O(n)\n",
    "lst"
   ]
  },
  {
   "cell_type": "code",
   "execution_count": 30,
   "id": "4258f3f3",
   "metadata": {},
   "outputs": [
    {
     "data": {
      "text/plain": [
       "[1, 2, 3, 4, 5, 6]"
      ]
     },
     "execution_count": 30,
     "metadata": {},
     "output_type": "execute_result"
    }
   ],
   "source": [
    "lst.pop() # O(1)\n",
    "lst"
   ]
  },
  {
   "cell_type": "code",
   "execution_count": 31,
   "id": "ad986bc3",
   "metadata": {},
   "outputs": [
    {
     "data": {
      "text/plain": [
       "[2, 3, 4, 5, 6]"
      ]
     },
     "execution_count": 31,
     "metadata": {},
     "output_type": "execute_result"
    }
   ],
   "source": [
    "lst.pop(0) # O(n)\n",
    "lst"
   ]
  },
  {
   "cell_type": "code",
   "execution_count": 32,
   "id": "ee5ea6ee",
   "metadata": {},
   "outputs": [
    {
     "data": {
      "text/plain": [
       "[3, 4, 5, 6]"
      ]
     },
     "execution_count": 32,
     "metadata": {},
     "output_type": "execute_result"
    }
   ],
   "source": [
    "del lst[0] # O(n)\n",
    "lst"
   ]
  },
  {
   "cell_type": "code",
   "execution_count": 33,
   "id": "e2c15d5a",
   "metadata": {},
   "outputs": [
    {
     "data": {
      "text/plain": [
       "True"
      ]
     },
     "execution_count": 33,
     "metadata": {},
     "output_type": "execute_result"
    }
   ],
   "source": [
    "3 in lst # O(n)"
   ]
  },
  {
   "cell_type": "code",
   "execution_count": 34,
   "id": "f66c095a",
   "metadata": {},
   "outputs": [
    {
     "data": {
      "text/plain": [
       "[('Bob', 20), ('Alice', 30), ('Charlie', 40)]"
      ]
     },
     "execution_count": 34,
     "metadata": {},
     "output_type": "execute_result"
    }
   ],
   "source": [
    "lst = [(\"Alice\", 30), (\"Bob\", 20), (\"Charlie\", 40)]\n",
    "# sorted(lst)\n",
    "lst.sort(key=lambda x: x[1]) # O(nlogn)\n",
    "lst\n"
   ]
  },
  {
   "cell_type": "code",
   "execution_count": 35,
   "id": "b2a299fa",
   "metadata": {},
   "outputs": [
    {
     "data": {
      "text/plain": [
       "[3, 2, 1]"
      ]
     },
     "execution_count": 35,
     "metadata": {},
     "output_type": "execute_result"
    }
   ],
   "source": [
    "lst = [1, 2, 3]\n",
    "lst[::-1] # O(n)"
   ]
  },
  {
   "cell_type": "code",
   "execution_count": 36,
   "id": "2f39737b",
   "metadata": {},
   "outputs": [
    {
     "name": "stdout",
     "output_type": "stream",
     "text": [
      "[1, [5, 3], 4]\n",
      "[1, [5, 3], 4]\n"
     ]
    }
   ],
   "source": [
    "import copy\n",
    "\n",
    "lst = [1, [2, 3], 4]\n",
    "lst2 = copy.copy(lst) # shallow copy, lst2 = lst[:]\n",
    "lst2[1][0] = 5\n",
    "print(lst)\n",
    "print(lst2)"
   ]
  },
  {
   "cell_type": "code",
   "execution_count": 37,
   "id": "f3a19490",
   "metadata": {},
   "outputs": [
    {
     "name": "stdout",
     "output_type": "stream",
     "text": [
      "[1, [2, 3], 4]\n",
      "[1, [5, 3], 4]\n"
     ]
    }
   ],
   "source": [
    "lst = [1, [2, 3], 4]\n",
    "lst2 = copy.deepcopy(lst) # deep copy\n",
    "lst2[1][0] = 5\n",
    "print(lst)\n",
    "print(lst2)"
   ]
  },
  {
   "cell_type": "code",
   "execution_count": 38,
   "id": "779e26f6",
   "metadata": {},
   "outputs": [
    {
     "data": {
      "text/plain": [
       "[2, 4]"
      ]
     },
     "execution_count": 38,
     "metadata": {},
     "output_type": "execute_result"
    }
   ],
   "source": [
    "nums = [1, 2, 3, 4, 5]\n",
    "even_nums = [num for num in nums if num % 2 == 0]\n",
    "even_nums"
   ]
  },
  {
   "cell_type": "code",
   "execution_count": 39,
   "id": "99c83064",
   "metadata": {},
   "outputs": [
    {
     "name": "stdout",
     "output_type": "stream",
     "text": [
      "['Odd', 'Even', 'Odd', 'Even', 'Odd']\n"
     ]
    }
   ],
   "source": [
    "nums = [1, 2, 3, 4, 5]\n",
    "even_or_not = [\"Even\" if num % 2 == 0 else \"Odd\" for num in nums]\n",
    "print(even_or_not)"
   ]
  },
  {
   "cell_type": "markdown",
   "id": "b72921f6",
   "metadata": {},
   "source": [
    "### Set: Unordered, Unique"
   ]
  },
  {
   "cell_type": "code",
   "execution_count": 40,
   "id": "26fdea42",
   "metadata": {},
   "outputs": [
    {
     "data": {
      "text/plain": [
       "{1, 2, 3}"
      ]
     },
     "execution_count": 40,
     "metadata": {},
     "output_type": "execute_result"
    }
   ],
   "source": [
    "s = {1, 2, 3, 3}\n",
    "s"
   ]
  },
  {
   "cell_type": "code",
   "execution_count": 41,
   "id": "dd1a44b7",
   "metadata": {},
   "outputs": [
    {
     "data": {
      "text/plain": [
       "{1, 2, 3, 4}"
      ]
     },
     "execution_count": 41,
     "metadata": {},
     "output_type": "execute_result"
    }
   ],
   "source": [
    "s.add(4) # O(1)\n",
    "s"
   ]
  },
  {
   "cell_type": "code",
   "execution_count": 42,
   "id": "7aa74470",
   "metadata": {},
   "outputs": [
    {
     "data": {
      "text/plain": [
       "True"
      ]
     },
     "execution_count": 42,
     "metadata": {},
     "output_type": "execute_result"
    }
   ],
   "source": [
    "3 in s # O(1)"
   ]
  },
  {
   "cell_type": "code",
   "execution_count": 43,
   "id": "834e39ca",
   "metadata": {},
   "outputs": [
    {
     "data": {
      "text/plain": [
       "{1, 2, 4}"
      ]
     },
     "execution_count": 43,
     "metadata": {},
     "output_type": "execute_result"
    }
   ],
   "source": [
    "s.remove(3) # O(1)\n",
    "s"
   ]
  },
  {
   "cell_type": "code",
   "execution_count": 44,
   "id": "13a0b63d",
   "metadata": {},
   "outputs": [],
   "source": [
    "s.discard(99) # O(1) does not raise an error if the element is not in the set"
   ]
  },
  {
   "cell_type": "code",
   "execution_count": 45,
   "id": "46c05648",
   "metadata": {},
   "outputs": [
    {
     "name": "stdout",
     "output_type": "stream",
     "text": [
      "{1, 2, 3, 4, 5}\n",
      "{2, 3}\n",
      "{1}\n",
      "{1, 4, 5}\n"
     ]
    }
   ],
   "source": [
    "s1 = {1, 2, 3}\n",
    "s2 = {2, 3, 4, 5}\n",
    "print(s1.union(s2))\n",
    "print(s1.intersection(s2))\n",
    "print(s1.difference(s2))\n",
    "print(s1.symmetric_difference(s2))"
   ]
  },
  {
   "cell_type": "code",
   "execution_count": 46,
   "id": "9b6a0ea0",
   "metadata": {},
   "outputs": [
    {
     "name": "stdout",
     "output_type": "stream",
     "text": [
      "{1, 2, 3, 4, 5}\n",
      "{2, 3}\n",
      "{1}\n",
      "{1, 4, 5}\n"
     ]
    }
   ],
   "source": [
    "print(s1 | s2)\n",
    "print(s1 & s2)\n",
    "print(s1 - s2)\n",
    "print(s1 ^ s2)"
   ]
  },
  {
   "cell_type": "markdown",
   "id": "d96f1860",
   "metadata": {},
   "source": [
    "### Tuple: Immutable"
   ]
  },
  {
   "cell_type": "code",
   "execution_count": 47,
   "id": "f408cbe4",
   "metadata": {},
   "outputs": [
    {
     "data": {
      "text/plain": [
       "3"
      ]
     },
     "execution_count": 47,
     "metadata": {},
     "output_type": "execute_result"
    }
   ],
   "source": [
    "tpl = (1, 2, 3)\n",
    "tpl[2] # O(1)"
   ]
  },
  {
   "cell_type": "markdown",
   "id": "ef289a11",
   "metadata": {},
   "source": [
    "### Dictionary"
   ]
  },
  {
   "cell_type": "code",
   "execution_count": 48,
   "id": "5c50e915",
   "metadata": {},
   "outputs": [
    {
     "data": {
      "text/plain": [
       "'two'"
      ]
     },
     "execution_count": 48,
     "metadata": {},
     "output_type": "execute_result"
    }
   ],
   "source": [
    "d = {\"un\": \"one\", \"deux\": \"two\", \"trois\": \"three\"}\n",
    "d[\"deux\"] # O(1)"
   ]
  },
  {
   "cell_type": "code",
   "execution_count": 49,
   "id": "ffdac0e3",
   "metadata": {},
   "outputs": [
    {
     "data": {
      "text/plain": [
       "{'un': 'one', 'deux': 'two', 'trois': 'three', 'quatre': 'four'}"
      ]
     },
     "execution_count": 49,
     "metadata": {},
     "output_type": "execute_result"
    }
   ],
   "source": [
    "d[\"quatre\"] = \"four\" # O(1)\n",
    "d"
   ]
  },
  {
   "cell_type": "code",
   "execution_count": 50,
   "id": "2464125a",
   "metadata": {},
   "outputs": [],
   "source": [
    "d.get(\"cinq\") # O(1) does not raise an error if the key is not in the dictionary"
   ]
  },
  {
   "cell_type": "code",
   "execution_count": 51,
   "id": "0254dd61",
   "metadata": {},
   "outputs": [
    {
     "data": {
      "text/plain": [
       "'five'"
      ]
     },
     "execution_count": 51,
     "metadata": {},
     "output_type": "execute_result"
    }
   ],
   "source": [
    "d.get(\"cinq\", \"five\") # O(1)"
   ]
  },
  {
   "cell_type": "code",
   "execution_count": 52,
   "id": "5c4145c2",
   "metadata": {},
   "outputs": [
    {
     "data": {
      "text/plain": [
       "{'un': 'one', 'deux': 'two', 'trois': 'three'}"
      ]
     },
     "execution_count": 52,
     "metadata": {},
     "output_type": "execute_result"
    }
   ],
   "source": [
    "del d[\"quatre\"] # O(1)\n",
    "d"
   ]
  },
  {
   "cell_type": "code",
   "execution_count": 53,
   "id": "7dd2a5aa",
   "metadata": {},
   "outputs": [
    {
     "name": "stdout",
     "output_type": "stream",
     "text": [
      "dict_keys(['un', 'deux', 'trois'])\n",
      "dict_values(['one', 'two', 'three'])\n",
      "dict_items([('un', 'one'), ('deux', 'two'), ('trois', 'three')])\n"
     ]
    }
   ],
   "source": [
    "print(d.keys())\n",
    "print(d.values())\n",
    "print(d.items())"
   ]
  },
  {
   "cell_type": "markdown",
   "id": "7723862d",
   "metadata": {},
   "source": [
    "### Collections"
   ]
  },
  {
   "cell_type": "code",
   "execution_count": 54,
   "id": "83cbf4ae",
   "metadata": {},
   "outputs": [
    {
     "data": {
      "text/plain": [
       "Counter({'l': 3, 'o': 2, 'h': 1, 'e': 1, ' ': 1, 'w': 1, 'r': 1, 'd': 1})"
      ]
     },
     "execution_count": 54,
     "metadata": {},
     "output_type": "execute_result"
    }
   ],
   "source": [
    "from collections import Counter\n",
    "\n",
    "c = Counter(\"hello world\")\n",
    "c"
   ]
  },
  {
   "cell_type": "code",
   "execution_count": 55,
   "id": "cba0306c",
   "metadata": {},
   "outputs": [
    {
     "data": {
      "text/plain": [
       "[('l', 3), ('o', 2)]"
      ]
     },
     "execution_count": 55,
     "metadata": {},
     "output_type": "execute_result"
    }
   ],
   "source": [
    "c.most_common(2) # O(nlogn), O(n) if ommited"
   ]
  },
  {
   "cell_type": "code",
   "execution_count": 56,
   "id": "6ccc9492",
   "metadata": {},
   "outputs": [
    {
     "name": "stdout",
     "output_type": "stream",
     "text": [
      "1\n",
      "N/A\n"
     ]
    }
   ],
   "source": [
    "from collections import defaultdict\n",
    "# defaultdict provides a default value for the key that does not exist\n",
    "\n",
    "d = defaultdict(lambda: \"N/A\")\n",
    "d[\"un\"] = 1\n",
    "print(d[\"un\"])\n",
    "print(d[\"deux\"])"
   ]
  },
  {
   "cell_type": "code",
   "execution_count": 57,
   "id": "6db60dad",
   "metadata": {},
   "outputs": [
    {
     "data": {
      "text/plain": [
       "defaultdict(int, {'hello': 1})"
      ]
     },
     "execution_count": 57,
     "metadata": {},
     "output_type": "execute_result"
    }
   ],
   "source": [
    "counts = defaultdict(int)\n",
    "counts[\"hello\"] += 1\n",
    "counts"
   ]
  },
  {
   "cell_type": "code",
   "execution_count": 58,
   "id": "08949912",
   "metadata": {},
   "outputs": [
    {
     "data": {
      "text/plain": [
       "defaultdict(set, {'fruits': {'apple', 'banana'}, 'vegetables': {'broccoli'}})"
      ]
     },
     "execution_count": 58,
     "metadata": {},
     "output_type": "execute_result"
    }
   ],
   "source": [
    "dd_set = defaultdict(set)\n",
    "dd_set[\"fruits\"].add(\"apple\")\n",
    "dd_set[\"fruits\"].add(\"banana\")\n",
    "dd_set[\"vegetables\"].add(\"broccoli\")\n",
    "dd_set"
   ]
  },
  {
   "cell_type": "code",
   "execution_count": 59,
   "id": "111e6bfb",
   "metadata": {},
   "outputs": [
    {
     "name": "stdout",
     "output_type": "stream",
     "text": [
      "deque([1])\n",
      "deque([2, 1])\n",
      "deque([2])\n",
      "deque([])\n"
     ]
    }
   ],
   "source": [
    "from collections import deque\n",
    "\n",
    "q = deque()\n",
    "\n",
    "q.append(1) # O(1)\n",
    "print(q)\n",
    "q.appendleft(2) # O(1)\n",
    "print(q)\n",
    "q.pop() # O(1)\n",
    "print(q)\n",
    "q.popleft() # O(1)\n",
    "print(q)"
   ]
  },
  {
   "cell_type": "code",
   "execution_count": 60,
   "id": "ccd42fa0",
   "metadata": {},
   "outputs": [
    {
     "data": {
      "text/plain": [
       "[1, 3, 2]"
      ]
     },
     "execution_count": 60,
     "metadata": {},
     "output_type": "execute_result"
    }
   ],
   "source": [
    "import heapq\n",
    "# priority queue\n",
    "\n",
    "heap = [3, 1, 2]\n",
    "heapq.heapify(heap) # O(n), heaps are binary trees for which every parent node has a value less than or equal to any of its children\n",
    "heap"
   ]
  },
  {
   "cell_type": "code",
   "execution_count": 61,
   "id": "06986181",
   "metadata": {},
   "outputs": [
    {
     "data": {
      "text/plain": [
       "[1, 3, 2, 4]"
      ]
     },
     "execution_count": 61,
     "metadata": {},
     "output_type": "execute_result"
    }
   ],
   "source": [
    "heapq.heappush(heap, 4) # O(logn), push an element to the heap\n",
    "heap"
   ]
  },
  {
   "cell_type": "code",
   "execution_count": 62,
   "id": "73e7d409",
   "metadata": {},
   "outputs": [
    {
     "name": "stdout",
     "output_type": "stream",
     "text": [
      "1\n",
      "[2, 3, 4]\n"
     ]
    }
   ],
   "source": [
    "val = heapq.heappop(heap) # O(logn), pop the smallest element from the heap\n",
    "print(val)\n",
    "print(heap)"
   ]
  },
  {
   "cell_type": "code",
   "execution_count": 63,
   "id": "aad5954b",
   "metadata": {},
   "outputs": [
    {
     "name": "stdout",
     "output_type": "stream",
     "text": [
      "0\n",
      "[2, 3, 4]\n"
     ]
    }
   ],
   "source": [
    "val = heapq.heappushpop(heap, 0) # O(logn), first push then pop\n",
    "print(val)\n",
    "print(heap)"
   ]
  },
  {
   "cell_type": "code",
   "execution_count": 64,
   "id": "8a23b867",
   "metadata": {},
   "outputs": [
    {
     "name": "stdout",
     "output_type": "stream",
     "text": [
      "2\n",
      "[0, 3, 4]\n"
     ]
    }
   ],
   "source": [
    "val = heapq.heapreplace(heap, 0) # O(logn), first pop then push\n",
    "print(val)\n",
    "print(heap)"
   ]
  },
  {
   "cell_type": "code",
   "execution_count": 65,
   "id": "853a24a0",
   "metadata": {},
   "outputs": [
    {
     "name": "stdout",
     "output_type": "stream",
     "text": [
      "[0, 3]\n"
     ]
    }
   ],
   "source": [
    "print(heapq.nsmallest(2, heap)) # O(nlogk), find n smallest elements"
   ]
  },
  {
   "cell_type": "code",
   "execution_count": 66,
   "id": "d72d1432",
   "metadata": {},
   "outputs": [
    {
     "data": {
      "text/plain": [
       "[('bob', 3), ('alice', 2)]"
      ]
     },
     "execution_count": 66,
     "metadata": {},
     "output_type": "execute_result"
    }
   ],
   "source": [
    "heap = [('alice', 2), ('bob', 3), ('charlie', 1)]\n",
    "heapq.nlargest(2, heap, key=lambda x: x[1]) # O(nlogk)"
   ]
  },
  {
   "cell_type": "markdown",
   "id": "19dbb3e6",
   "metadata": {},
   "source": [
    "### Generators"
   ]
  },
  {
   "cell_type": "code",
   "execution_count": 67,
   "id": "aa514be9",
   "metadata": {},
   "outputs": [
    {
     "name": "stdout",
     "output_type": "stream",
     "text": [
      "1\n",
      "2\n"
     ]
    }
   ],
   "source": [
    "def count_num(n):\n",
    "    i = 1\n",
    "    while i <= n:\n",
    "        yield i\n",
    "        i += 1\n",
    "counter = count_num(5)\n",
    "print(next(counter))\n",
    "print(next(counter))"
   ]
  },
  {
   "cell_type": "code",
   "execution_count": 68,
   "id": "9afc5c4c",
   "metadata": {},
   "outputs": [
    {
     "name": "stdout",
     "output_type": "stream",
     "text": [
      "0\n",
      "1\n",
      "4\n"
     ]
    }
   ],
   "source": [
    "squares = (x**2 for x in range(3))\n",
    "for square in squares:\n",
    "    print(square)"
   ]
  },
  {
   "cell_type": "markdown",
   "id": "8de95c40",
   "metadata": {},
   "source": [
    "### Multiprocessing and Threading\n",
    "\n",
    "- Threading: Threads share the same memory space. Python GIL (Global Interpreter Lock) only allows one thread to execute at a time, usefull for I/O bound tasks.\n",
    "- Multiprocessing: Each Python process gets its own interpreter and memory, useful for CPU bound tasks as it allows to bypass GIL\n"
   ]
  },
  {
   "cell_type": "code",
   "execution_count": 69,
   "id": "37498852",
   "metadata": {},
   "outputs": [
    {
     "name": "stdout",
     "output_type": "stream",
     "text": [
      "Thread 0: Starting task\n",
      "Thread 1: Starting task\n",
      "Thread 1: Finished task\n",
      "Thread 0: Finished task\n"
     ]
    }
   ],
   "source": [
    "\n",
    "from threading import Thread\n",
    "import time\n",
    "\n",
    "def worker(task_num):\n",
    "    print(f\"Thread {task_num}: Starting task\")\n",
    "    time.sleep(5)  # I/O-bound task with a delay of 5 seconds (even GIL allows only one thread to run at a time, all can make progress because they release the GIL while sleeping or waiting for I/O)\n",
    "    print(f\"Thread {task_num}: Finished task\")\n",
    "\n",
    "if __name__ == '__main__':\n",
    "    threads = []\n",
    "    for i in range(2):\n",
    "        # create a new thread\n",
    "        thread = Thread(target=worker, args=(i,))\n",
    "        # add the thread to the list of threads\n",
    "        threads.append(thread)\n",
    "        # start the thread, run target function\n",
    "        thread.start()\n",
    "\n",
    "    # main thread waits for all threads to complete\n",
    "    for thread in threads:\n",
    "        thread.join()"
   ]
  },
  {
   "cell_type": "code",
   "execution_count": 70,
   "id": "f915f12c",
   "metadata": {},
   "outputs": [],
   "source": [
    "from multiprocessing import Process\n",
    "\n",
    "def worker(num):\n",
    "    print(f'Worker: {num}')\n",
    "if __name__ == '__main__':\n",
    "    processes = []\n",
    "    for i in range(5):\n",
    "        p = Process(target=worker, args=(i,))\n",
    "        processes.append(p)\n",
    "        p.start()\n",
    "    for p in processes:\n",
    "        p.join()"
   ]
  },
  {
   "cell_type": "code",
   "execution_count": null,
   "id": "d0324afd",
   "metadata": {},
   "outputs": [],
   "source": []
  }
 ],
 "metadata": {
  "kernelspec": {
   "display_name": "base",
   "language": "python",
   "name": "python3"
  },
  "language_info": {
   "codemirror_mode": {
    "name": "ipython",
    "version": 3
   },
   "file_extension": ".py",
   "mimetype": "text/x-python",
   "name": "python",
   "nbconvert_exporter": "python",
   "pygments_lexer": "ipython3",
   "version": "3.9.18"
  }
 },
 "nbformat": 4,
 "nbformat_minor": 5
}
