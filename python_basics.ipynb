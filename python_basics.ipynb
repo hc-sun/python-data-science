{
 "cells": [
  {
   "cell_type": "markdown",
   "id": "82d51f36",
   "metadata": {},
   "source": [
    "### formatted string literal"
   ]
  },
  {
   "cell_type": "code",
   "execution_count": 1,
   "id": "c00bf84b",
   "metadata": {},
   "outputs": [
    {
     "data": {
      "text/plain": [
       "'Hello, World'"
      ]
     },
     "execution_count": 1,
     "metadata": {},
     "output_type": "execute_result"
    }
   ],
   "source": [
    "name = \"World\"\n",
    "f\"Hello, {name}\""
   ]
  },
  {
   "cell_type": "code",
   "execution_count": 2,
   "id": "d5ced59b",
   "metadata": {},
   "outputs": [
    {
     "data": {
      "text/plain": [
       "'value: 3.14'"
      ]
     },
     "execution_count": 2,
     "metadata": {},
     "output_type": "execute_result"
    }
   ],
   "source": [
    "val = 3.14159\n",
    "f\"value: {val:.2f}\""
   ]
  },
  {
   "cell_type": "markdown",
   "id": "a62023cc",
   "metadata": {},
   "source": [
    "### data representation"
   ]
  },
  {
   "cell_type": "code",
   "execution_count": 3,
   "id": "3b262327",
   "metadata": {},
   "outputs": [
    {
     "data": {
      "text/plain": [
       "'0xff'"
      ]
     },
     "execution_count": 3,
     "metadata": {},
     "output_type": "execute_result"
    }
   ],
   "source": [
    "# int to hex\n",
    "hex(255)"
   ]
  },
  {
   "cell_type": "code",
   "execution_count": 4,
   "id": "bbfbeef3",
   "metadata": {},
   "outputs": [
    {
     "name": "stdout",
     "output_type": "stream",
     "text": [
      "10\n",
      "0b1010\n"
     ]
    }
   ],
   "source": [
    "# base 2 to int\n",
    "print(int(\"1010\", 2))\n",
    "# int to base 2\n",
    "print(bin(10))"
   ]
  },
  {
   "cell_type": "code",
   "execution_count": 5,
   "id": "3eaeaef6",
   "metadata": {},
   "outputs": [
    {
     "name": "stdout",
     "output_type": "stream",
     "text": [
      "97\n",
      "A\n"
     ]
    }
   ],
   "source": [
    "# unicode to int\n",
    "print(ord('a'))\n",
    "# int to unicode\n",
    "print(chr(65))"
   ]
  },
  {
   "cell_type": "code",
   "execution_count": 6,
   "id": "7c414c40",
   "metadata": {},
   "outputs": [
    {
     "name": "stdout",
     "output_type": "stream",
     "text": [
      "False\n",
      "False\n"
     ]
    }
   ],
   "source": [
    "### boolean\n",
    "print(bool(0))\n",
    "print(bool(None))"
   ]
  },
  {
   "cell_type": "markdown",
   "id": "99f7968e",
   "metadata": {},
   "source": [
    "### operators"
   ]
  },
  {
   "cell_type": "code",
   "execution_count": 7,
   "id": "1cf8f307",
   "metadata": {},
   "outputs": [
    {
     "name": "stdout",
     "output_type": "stream",
     "text": [
      "False\n",
      "True\n",
      "False\n"
     ]
    }
   ],
   "source": [
    "x = True\n",
    "y = False\n",
    "print(x and y)\n",
    "print(x or y)\n",
    "print(not x)"
   ]
  },
  {
   "cell_type": "code",
   "execution_count": 8,
   "id": "728cf832",
   "metadata": {},
   "outputs": [
    {
     "name": "stdout",
     "output_type": "stream",
     "text": [
      "2\n",
      "3\n",
      "1\n",
      "4\n",
      "1\n",
      "-3\n"
     ]
    }
   ],
   "source": [
    "# bitwise operators\n",
    "x = 2 # 10\n",
    "y = 3 # 11\n",
    "print(x & y) # AND\n",
    "print(x | y) # OR\n",
    "print(x ^ y) # XOR\n",
    "print(x << 1) # left shift, add 0 to the right\n",
    "print(x >> 1) # right shift\n",
    "print(~x) # NOT -x-1"
   ]
  },
  {
   "cell_type": "code",
   "execution_count": 9,
   "id": "811ce29d",
   "metadata": {},
   "outputs": [
    {
     "name": "stdout",
     "output_type": "stream",
     "text": [
      "2570438507840\n",
      "2570438507904\n",
      "2570438507840\n",
      "True\n",
      "False\n",
      "True\n"
     ]
    }
   ],
   "source": [
    "# identity operators\n",
    "x = [1, 2, 3]\n",
    "y = [1, 2, 3]\n",
    "z = x\n",
    "print(id(x))\n",
    "print(id(y))\n",
    "print(id(z))\n",
    "print(x == y)\n",
    "print(x is y)\n",
    "print(x is z)"
   ]
  },
  {
   "cell_type": "code",
   "execution_count": 10,
   "id": "f4802cd5",
   "metadata": {},
   "outputs": [
    {
     "name": "stdout",
     "output_type": "stream",
     "text": [
      "False\n",
      "False\n"
     ]
    }
   ],
   "source": [
    "print(bool(0))\n",
    "print(bool(None))"
   ]
  },
  {
   "cell_type": "code",
   "execution_count": 11,
   "id": "0ae9d46f",
   "metadata": {},
   "outputs": [
    {
     "name": "stdout",
     "output_type": "stream",
     "text": [
      "3.14\n",
      "2\n",
      "3\n"
     ]
    }
   ],
   "source": [
    "print(round(3.14159, 2))\n",
    "print(round(2.5))\n",
    "print(round(2.51))"
   ]
  },
  {
   "cell_type": "code",
   "execution_count": null,
   "id": "5546bdcb",
   "metadata": {},
   "outputs": [],
   "source": []
  }
 ],
 "metadata": {
  "kernelspec": {
   "display_name": "base",
   "language": "python",
   "name": "python3"
  },
  "language_info": {
   "codemirror_mode": {
    "name": "ipython",
    "version": 3
   },
   "file_extension": ".py",
   "mimetype": "text/x-python",
   "name": "python",
   "nbconvert_exporter": "python",
   "pygments_lexer": "ipython3",
   "version": "3.10.13"
  }
 },
 "nbformat": 4,
 "nbformat_minor": 5
}
